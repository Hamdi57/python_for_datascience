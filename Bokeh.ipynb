%matplotlib inline
from bokeh.io import output_notebook, show
from bokeh.plotting import figure

# Creating the line plot
x = [5, 6, 7, 8, 9, 10]
y = [1, 2, 3, 4, 5, 6]

plot = figure()

# Creating a line plot using the line() function
plot.line(x, y)

# Creating markers on the line plot at the intersection between x and y
plot.cross(x, y, size=15)

# Output the plot to the notebook
output_notebook()
show(plot)

# Creating the bar plot
x = [8, 9, 10]
y = [1, 2, 3]

plot = figure()

# Creating the bar plot
plot.vbar(x, top=y, color="blue", width=0.5)

# Output the plot to the notebook
output_notebook()
show(plot)

# Creating the patch plot
x_region = [[1, 1, 2], [2, 3, 4], [2, 3, 5, 4]]
y_region = [[2, 5, 6], [3, 6, 7], [2, 4, 7, 8]]

plot = figure()

# Building the patch plot
plot.patches(x_region, y_region, fill_color=['yellow', 'black', 'green'], line_color='white')

# Output the plot to a file
output_file('patch_plot.html')
show(plot)

# Creating the scatter plot
x = [1, 2, 3, 4, 5]
y = [5, 7, 2, 2, 4]

plot = figure()

# Plotting the points with a circle marker
plot.circle(x, y, size=30)

# Output the plot to a file
output_file('scatter.html')
show(plot)

# Creating the cosine plot using numpy
from numpy import cos, linspace

x = linspace(-6, 6, 100)
y = cos(x)

plot = figure(width=500, height=500)

# Plotting the points with a circle marker
plot.circle(x, y, size=7, color="firebrick", alpha=0.5)

show(plot)

# Creating the grouped bar plot
from bokeh.sampledata.autompg import autompg

grouped = autompg.groupby("yr")
mpg = grouped.mpg
avg, std = mpg.mean(), mpg.std()
years = list(grouped.groups)
american = autompg[autompg["origin"] == 1]
japanese = autompg[autompg["origin"] == 3]

p = figure(title="MPG by Year (Japan and US)")

# Plotting the grouped bar plot
p.vbar(x=years, bottom=avg-std, top=avg+std, width=0.8, fill_alpha=0.2, line_color=None, legend="MPG 1 stddev")
p.circle(x=japanese["yr"], y=japanese["mpg"], size=10, alpha=0.5, color="red", legend="Japanese")
p.triangle(x=american["yr"], y=american["mpg"], size=10, alpha=0.3, color="blue", legend="American")

p.legend.location = "top_left"
show(p)

# Creating a grid of plots
from bokeh.models import ColumnDataSource
from bokeh.layouts import gridplot

source = ColumnDataSource(autompg)

options = dict(plot_width=300, plot_height=300, tools="pan,wheel_zoom,box_zoom,box_select,lasso_select")

p1 = figure(title="MPG by Year", **options)
p1.circle("yr", "mpg", color="blue", source=source)

p2 = figure(title="HP vs. Displacement", **options)
p2.circle("hp", "displ", color="green", source=source)

p3 = figure(title="MPG vs. Displacement", **options)
p3.circle("mpg", "displ", size="cyl", line_color="red", fill_color=None, source=source)

p = gridplot([[p1, p2, p3]], toolbar_location="right")

show(p)
